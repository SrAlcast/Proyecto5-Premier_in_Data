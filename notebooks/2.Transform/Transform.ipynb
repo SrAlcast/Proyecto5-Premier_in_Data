{
 "cells": [
  {
   "cell_type": "code",
   "execution_count": 25,
   "metadata": {},
   "outputs": [],
   "source": [
    "import pandas as pd\n",
    "import os\n",
    "import dotenv as dotenv\n",
    "from time import sleep\n",
    "import sys\n",
    "import os\n",
    "# Asegúrate de que ../src esté en el path\n",
    "sys.path.append(os.path.join(os.path.dirname(os.path.abspath('')), '../src'))\n",
    "# Intenta importar la función\n",
    "from dic import diccionario_correspondencia1\n",
    "from dic import diccionario_correspondencia2\n",
    "from dic import diccionario_correspondencia3"
   ]
  },
  {
   "cell_type": "code",
   "execution_count": 26,
   "metadata": {},
   "outputs": [],
   "source": [
    "df_clasidicacion=pd.read_csv('../../data/base/clasificaciones_premier.csv')\n",
    "df_info=pd.read_csv('../../data/base/info_clubes.csv')\n",
    "df_estadios=pd.read_csv('../../data/base/asistencia_estadios.csv')\n",
    "df_jugadores=pd.read_csv('../../data/base/players_season_[2005].csv')"
   ]
  },
  {
   "cell_type": "code",
   "execution_count": 27,
   "metadata": {},
   "outputs": [
    {
     "data": {
      "text/plain": [
       "26"
      ]
     },
     "execution_count": 27,
     "metadata": {},
     "output_type": "execute_result"
    }
   ],
   "source": [
    "len(sorted(df_jugadores['team'].unique()))"
   ]
  },
  {
   "cell_type": "code",
   "execution_count": 28,
   "metadata": {},
   "outputs": [
    {
     "data": {
      "text/plain": [
       "43"
      ]
     },
     "execution_count": 28,
     "metadata": {},
     "output_type": "execute_result"
    }
   ],
   "source": [
    "len(sorted(df_clasidicacion['equipo'].unique()))"
   ]
  },
  {
   "cell_type": "code",
   "execution_count": 29,
   "metadata": {},
   "outputs": [
    {
     "data": {
      "text/plain": [
       "23"
      ]
     },
     "execution_count": 29,
     "metadata": {},
     "output_type": "execute_result"
    }
   ],
   "source": [
    "len(sorted(df_info['Nombre Completo'].unique()))"
   ]
  },
  {
   "cell_type": "code",
   "execution_count": 30,
   "metadata": {},
   "outputs": [
    {
     "data": {
      "text/plain": [
       "51"
      ]
     },
     "execution_count": 30,
     "metadata": {},
     "output_type": "execute_result"
    }
   ],
   "source": [
    "len(sorted(df_estadios['Equipo'].unique()))"
   ]
  },
  {
   "cell_type": "markdown",
   "metadata": {},
   "source": [
    "Crear lista de equipos"
   ]
  },
  {
   "cell_type": "code",
   "execution_count": 31,
   "metadata": {},
   "outputs": [],
   "source": [
    "lista_equipos=sorted(df_estadios['Equipo'].unique())"
   ]
  },
  {
   "cell_type": "code",
   "execution_count": 32,
   "metadata": {},
   "outputs": [],
   "source": [
    "df_clubes=pd.DataFrame(lista_equipos,columns=['Equipos'])"
   ]
  },
  {
   "cell_type": "markdown",
   "metadata": {},
   "source": [
    "Homogeneizar para que todos los df tengan la misma columna de Equipo definida"
   ]
  },
  {
   "cell_type": "code",
   "execution_count": 33,
   "metadata": {},
   "outputs": [],
   "source": [
    "df_clasidicacion['equipo'] = df_clasidicacion['equipo'].map(diccionario_correspondencia1)"
   ]
  },
  {
   "cell_type": "code",
   "execution_count": 34,
   "metadata": {},
   "outputs": [],
   "source": [
    "df_info['Equipo']=df_info['Nombre Completo'].map(diccionario_correspondencia2)"
   ]
  },
  {
   "cell_type": "code",
   "execution_count": 35,
   "metadata": {},
   "outputs": [],
   "source": [
    "df_jugadores['team']=df_jugadores['team'].map(diccionario_correspondencia3)"
   ]
  },
  {
   "cell_type": "markdown",
   "metadata": {},
   "source": [
    "Traducir las columnas del df_jugadores"
   ]
  },
  {
   "cell_type": "code",
   "execution_count": 36,
   "metadata": {},
   "outputs": [],
   "source": [
    "# Diccionario de traducción de columnas\n",
    "columnas_traducidas = {\n",
    "    'season': 'temporada',\n",
    "    'player_id': 'id_jugador',\n",
    "    'player_name': 'nombre_jugador',\n",
    "    'age': 'edad',\n",
    "    'nationality': 'nacionalidad',\n",
    "    'team': 'equipo',\n",
    "    'games_played': 'partidos_jugados',\n",
    "    'minutes': 'minutos',\n",
    "    'goals': 'goles',\n",
    "    'yellow_cards': 'tarjetas_amarillas',\n",
    "    'red_cards': 'tarjetas_rojas'\n",
    "}\n",
    "\n",
    "# Aplicar las traducciones a las columnas de un DataFrame (df)\n",
    "df_jugadores = df_jugadores.rename(columns=columnas_traducidas)\n"
   ]
  },
  {
   "cell_type": "markdown",
   "metadata": {},
   "source": [
    "Homogeneizar para que todos los df tengan la misma columna de Temporada"
   ]
  },
  {
   "cell_type": "code",
   "execution_count": 37,
   "metadata": {},
   "outputs": [],
   "source": [
    "df_clasidicacion['temporada'] = df_clasidicacion['temporada'].str.split('-').str[0].astype(int)"
   ]
  },
  {
   "cell_type": "code",
   "execution_count": 38,
   "metadata": {},
   "outputs": [],
   "source": [
    "# Función para convertir el formato \"92/93\" a \"1992\"\n",
    "def convertir_temporada(temporada):\n",
    "    # Tomar los primeros dos dígitos del año inicial\n",
    "    anio_inicio = int(temporada.split('/')[0])\n",
    "    # Si el año es menor a 50, asumir que es 2000s; si es mayor, es 1900s\n",
    "    if anio_inicio < 50:\n",
    "        return 2000 + anio_inicio\n",
    "    else:\n",
    "        return 1900 + anio_inicio"
   ]
  },
  {
   "cell_type": "code",
   "execution_count": 39,
   "metadata": {},
   "outputs": [],
   "source": [
    "df_estadios['Temporada'] = df_estadios['Temporada'].apply(convertir_temporada)"
   ]
  },
  {
   "cell_type": "markdown",
   "metadata": {},
   "source": [
    "Homogeneizar datos de rendimiento en Estadios"
   ]
  },
  {
   "cell_type": "code",
   "execution_count": 40,
   "metadata": {},
   "outputs": [],
   "source": [
    "# Limpiar la columna y convertir a float\n",
    "df_estadios['Máximo rendimiento'] = df_estadios['Máximo rendimiento'].str.replace(',', '.').str.replace('%', '').astype(float)\n",
    "\n",
    "# Renombrar la columna\n",
    "df_estadios.rename(columns={'Máximo rendimiento\t': 'Máximo rendimiento (%)'}, inplace=True)"
   ]
  },
  {
   "cell_type": "markdown",
   "metadata": {},
   "source": [
    "Rellenar NaN de lleno en df_estadios"
   ]
  },
  {
   "cell_type": "code",
   "execution_count": 41,
   "metadata": {},
   "outputs": [],
   "source": [
    "df_estadios.fillna(0, inplace=True)"
   ]
  },
  {
   "cell_type": "markdown",
   "metadata": {},
   "source": [
    "Rellenar NaN de titulos en df_info"
   ]
  },
  {
   "cell_type": "code",
   "execution_count": 42,
   "metadata": {},
   "outputs": [],
   "source": [
    "df_info.fillna(0, inplace=True)"
   ]
  },
  {
   "cell_type": "code",
   "execution_count": 43,
   "metadata": {},
   "outputs": [],
   "source": [
    "df_info[['Recopa de Europa', \"Full Members' Cup\"]] = df_info[['Recopa de Europa', \"Full Members' Cup\"]].astype(int)\n"
   ]
  },
  {
   "cell_type": "markdown",
   "metadata": {},
   "source": [
    "Borrar columna de asistencias en df_jugadores"
   ]
  },
  {
   "cell_type": "code",
   "execution_count": 44,
   "metadata": {},
   "outputs": [],
   "source": [
    "df_jugadores=df_jugadores.drop(columns='assists')"
   ]
  },
  {
   "cell_type": "code",
   "execution_count": 45,
   "metadata": {},
   "outputs": [],
   "source": [
    "df_jugadores.to_csv(f'../../data/transformed/stats_jugadores_transformed.csv', index=False)\n",
    "df_info.to_csv(f'../../data/transformed/info_clubes_transformed.csv', index=False)\n",
    "df_clasidicacion.to_csv(f'../../data/transformed/clasificaciones_premier_transformed.csv', index=False)\n",
    "df_estadios.to_csv(f'../../data/transformed/asistencia_estadios_transformed.csv', index=False)\n",
    "df_clubes.to_csv(f'../../data/transformed/clubes.csv', index=False)"
   ]
  }
 ],
 "metadata": {
  "kernelspec": {
   "display_name": "Python 3",
   "language": "python",
   "name": "python3"
  },
  "language_info": {
   "codemirror_mode": {
    "name": "ipython",
    "version": 3
   },
   "file_extension": ".py",
   "mimetype": "text/x-python",
   "name": "python",
   "nbconvert_exporter": "python",
   "pygments_lexer": "ipython3",
   "version": "3.12.7"
  }
 },
 "nbformat": 4,
 "nbformat_minor": 2
}
