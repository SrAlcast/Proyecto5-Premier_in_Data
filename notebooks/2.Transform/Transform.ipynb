{
 "cells": [
  {
   "cell_type": "code",
   "execution_count": 226,
   "metadata": {},
   "outputs": [],
   "source": [
    "import pandas as pd\n",
    "import os\n",
    "import dotenv as dotenv\n",
    "from time import sleep\n",
    "import sys\n",
    "import os\n",
    "# Asegúrate de que ../src esté en el path\n",
    "sys.path.append(os.path.join(os.path.dirname(os.path.abspath('')), '../src'))\n",
    "# Intenta importar la función\n",
    "from dic import diccionario_correspondencia1\n",
    "from dic import diccionario_correspondencia2\n",
    "from dic import diccionario_correspondencia3"
   ]
  },
  {
   "cell_type": "code",
   "execution_count": 227,
   "metadata": {},
   "outputs": [],
   "source": [
    "df_clasidicacion=pd.read_csv('../../data/base/clasificaciones_premier.csv')\n",
    "df_info=pd.read_csv('../../data/base/info_clubes.csv')\n",
    "df_estadios=pd.read_csv('../../data/base/asistencia_estadios.csv')\n",
    "df_jugadores1=pd.read_csv('../../data/base/players_stats_season_2023.csv')\n",
    "df_jugadores2=pd.read_csv('../../data/base/players_stats_season_2022.csv')\n",
    "df_jugadores3=pd.read_csv('../../data/base/players_stats_season_2021.csv')\n",
    "df_jugadores4=pd.read_csv('../../data/base/players_stats_season_2020.csv')\n",
    "df_jugadores5=pd.read_csv('../../data/base/players_stats_season_2019.csv')\n",
    "df_jugadores6=pd.read_csv('../../data/base/players_stats_season_2018.csv')\n",
    "df_jugadores7=pd.read_csv('../../data/base/players_stats_season_2017.csv')"
   ]
  },
  {
   "cell_type": "code",
   "execution_count": 228,
   "metadata": {},
   "outputs": [],
   "source": [
    "df_jugadores=pd.concat([df_jugadores1, df_jugadores2, df_jugadores3, df_jugadores4,df_jugadores5,df_jugadores6,df_jugadores7], axis=0).reset_index(drop=True)"
   ]
  },
  {
   "cell_type": "code",
   "execution_count": 229,
   "metadata": {},
   "outputs": [
    {
     "data": {
      "text/plain": [
       "2225"
      ]
     },
     "execution_count": 229,
     "metadata": {},
     "output_type": "execute_result"
    }
   ],
   "source": [
    "len(df_jugadores['player_id'].unique())"
   ]
  },
  {
   "cell_type": "code",
   "execution_count": 230,
   "metadata": {},
   "outputs": [
    {
     "data": {
      "text/plain": [
       "42"
      ]
     },
     "execution_count": 230,
     "metadata": {},
     "output_type": "execute_result"
    }
   ],
   "source": [
    "len(sorted(df_jugadores['team'].unique()))"
   ]
  },
  {
   "cell_type": "code",
   "execution_count": 231,
   "metadata": {},
   "outputs": [
    {
     "data": {
      "text/plain": [
       "43"
      ]
     },
     "execution_count": 231,
     "metadata": {},
     "output_type": "execute_result"
    }
   ],
   "source": [
    "len(sorted(df_clasidicacion['equipo'].unique()))"
   ]
  },
  {
   "cell_type": "code",
   "execution_count": 232,
   "metadata": {},
   "outputs": [
    {
     "data": {
      "text/plain": [
       "23"
      ]
     },
     "execution_count": 232,
     "metadata": {},
     "output_type": "execute_result"
    }
   ],
   "source": [
    "len(sorted(df_info['Nombre Completo'].unique()))"
   ]
  },
  {
   "cell_type": "code",
   "execution_count": 233,
   "metadata": {},
   "outputs": [
    {
     "data": {
      "text/plain": [
       "51"
      ]
     },
     "execution_count": 233,
     "metadata": {},
     "output_type": "execute_result"
    }
   ],
   "source": [
    "len(sorted(df_estadios['Equipo'].unique()))"
   ]
  },
  {
   "cell_type": "markdown",
   "metadata": {},
   "source": [
    "Crear lista de equipos"
   ]
  },
  {
   "cell_type": "code",
   "execution_count": 234,
   "metadata": {},
   "outputs": [],
   "source": [
    "lista_equipos=sorted(df_estadios['Equipo'].unique())"
   ]
  },
  {
   "cell_type": "code",
   "execution_count": 235,
   "metadata": {},
   "outputs": [],
   "source": [
    "df_clubes=pd.DataFrame(lista_equipos,columns=['Equipos'])"
   ]
  },
  {
   "cell_type": "markdown",
   "metadata": {},
   "source": [
    "Homogeneizar para que todos los df tengan la misma columna de Equipo definida"
   ]
  },
  {
   "cell_type": "code",
   "execution_count": 236,
   "metadata": {},
   "outputs": [],
   "source": [
    "df_clasidicacion['equipo'] = df_clasidicacion['equipo'].map(diccionario_correspondencia1)"
   ]
  },
  {
   "cell_type": "code",
   "execution_count": 237,
   "metadata": {},
   "outputs": [],
   "source": [
    "df_info['Equipo']=df_info['Nombre Completo'].map(diccionario_correspondencia2)"
   ]
  },
  {
   "cell_type": "code",
   "execution_count": 238,
   "metadata": {},
   "outputs": [],
   "source": [
    "df_jugadores['team']=df_jugadores['team'].map(diccionario_correspondencia3)"
   ]
  },
  {
   "cell_type": "markdown",
   "metadata": {},
   "source": [
    "Traducir las columnas del df_jugadores"
   ]
  },
  {
   "cell_type": "code",
   "execution_count": 239,
   "metadata": {},
   "outputs": [],
   "source": [
    "# Diccionario de traducción de columnas\n",
    "columnas_traducidas = {\n",
    "    'season': 'temporada',\n",
    "    'player_id': 'id_jugador',\n",
    "    'player_name': 'nombre_jugador',\n",
    "    'age': 'edad',\n",
    "    'nationality': 'nacionalidad',\n",
    "    'team': 'equipo',\n",
    "    'games_played': 'partidos_jugados',\n",
    "    'minutes': 'minutos',\n",
    "    'goals': 'goles',\n",
    "    'yellow_cards': 'tarjetas_amarillas',\n",
    "    'red_cards': 'tarjetas_rojas'\n",
    "}\n",
    "\n",
    "# Aplicar las traducciones a las columnas de un DataFrame (df)\n",
    "df_jugadores = df_jugadores.rename(columns=columnas_traducidas)\n"
   ]
  },
  {
   "cell_type": "code",
   "execution_count": 240,
   "metadata": {},
   "outputs": [],
   "source": [
    "df_jugadores['edad'] = df_jugadores['edad'] - (2024 - df_jugadores['temporada'])"
   ]
  },
  {
   "cell_type": "markdown",
   "metadata": {},
   "source": [
    "Borrar jugadores que no se sepa de que equipo son"
   ]
  },
  {
   "cell_type": "code",
   "execution_count": 242,
   "metadata": {},
   "outputs": [
    {
     "data": {
      "text/plain": [
       "(5347, 12)"
      ]
     },
     "execution_count": 242,
     "metadata": {},
     "output_type": "execute_result"
    }
   ],
   "source": [
    "df_jugadores.shape"
   ]
  },
  {
   "cell_type": "code",
   "execution_count": 243,
   "metadata": {},
   "outputs": [],
   "source": [
    "df_jugadores=df_jugadores.dropna(subset=['equipo'])"
   ]
  },
  {
   "cell_type": "code",
   "execution_count": 244,
   "metadata": {},
   "outputs": [
    {
     "data": {
      "text/plain": [
       "(3365, 12)"
      ]
     },
     "execution_count": 244,
     "metadata": {},
     "output_type": "execute_result"
    }
   ],
   "source": [
    "df_jugadores.shape"
   ]
  },
  {
   "cell_type": "code",
   "execution_count": 245,
   "metadata": {},
   "outputs": [],
   "source": [
    "df_jugadores=df_jugadores.dropna(subset=['edad'])"
   ]
  },
  {
   "cell_type": "code",
   "execution_count": 246,
   "metadata": {},
   "outputs": [
    {
     "data": {
      "text/plain": [
       "(3364, 12)"
      ]
     },
     "execution_count": 246,
     "metadata": {},
     "output_type": "execute_result"
    }
   ],
   "source": [
    "df_jugadores.shape"
   ]
  },
  {
   "cell_type": "code",
   "execution_count": 247,
   "metadata": {},
   "outputs": [],
   "source": [
    "df_jugadores=df_jugadores.fillna(0)"
   ]
  },
  {
   "cell_type": "markdown",
   "metadata": {},
   "source": [
    "Homogeneizar para que todos los df tengan la misma columna de Temporada"
   ]
  },
  {
   "cell_type": "code",
   "execution_count": 248,
   "metadata": {},
   "outputs": [],
   "source": [
    "df_clasidicacion['temporada'] = df_clasidicacion['temporada'].str.split('-').str[0].astype(int)"
   ]
  },
  {
   "cell_type": "code",
   "execution_count": 249,
   "metadata": {},
   "outputs": [],
   "source": [
    "# Función para convertir el formato \"92/93\" a \"1992\"\n",
    "def convertir_temporada(temporada):\n",
    "    # Tomar los primeros dos dígitos del año inicial\n",
    "    anio_inicio = int(temporada.split('/')[0])\n",
    "    # Si el año es menor a 50, asumir que es 2000s; si es mayor, es 1900s\n",
    "    if anio_inicio < 50:\n",
    "        return 2000 + anio_inicio\n",
    "    else:\n",
    "        return 1900 + anio_inicio"
   ]
  },
  {
   "cell_type": "code",
   "execution_count": 250,
   "metadata": {},
   "outputs": [],
   "source": [
    "df_estadios['Temporada'] = df_estadios['Temporada'].apply(convertir_temporada)"
   ]
  },
  {
   "cell_type": "markdown",
   "metadata": {},
   "source": [
    "Homogeneizar datos de rendimiento en Estadios"
   ]
  },
  {
   "cell_type": "code",
   "execution_count": 251,
   "metadata": {},
   "outputs": [],
   "source": [
    "# Limpiar la columna y convertir a float\n",
    "df_estadios['Máximo rendimiento'] = df_estadios['Máximo rendimiento'].str.replace(',', '.').str.replace('%', '').astype(float)\n",
    "\n",
    "# Renombrar la columna\n",
    "df_estadios.rename(columns={'Máximo rendimiento\t': 'Máximo rendimiento (%)'}, inplace=True)"
   ]
  },
  {
   "cell_type": "markdown",
   "metadata": {},
   "source": [
    "Rellenar NaN de lleno en df_estadios"
   ]
  },
  {
   "cell_type": "code",
   "execution_count": 252,
   "metadata": {},
   "outputs": [],
   "source": [
    "df_estadios.fillna(0, inplace=True)"
   ]
  },
  {
   "cell_type": "markdown",
   "metadata": {},
   "source": [
    "Rellenar NaN de titulos en df_info"
   ]
  },
  {
   "cell_type": "code",
   "execution_count": 253,
   "metadata": {},
   "outputs": [],
   "source": [
    "df_info.fillna(0, inplace=True)"
   ]
  },
  {
   "cell_type": "code",
   "execution_count": 254,
   "metadata": {},
   "outputs": [
    {
     "data": {
      "text/plain": [
       "Nombre Completo                   object\n",
       "Año de fundación                   int64\n",
       "País                              object\n",
       "Confederación Nacional            object\n",
       "Colores principales               object\n",
       "Colores alternativos              object\n",
       "Apodo                             object\n",
       "Web oficial                       object\n",
       "Títulos Internacionales            int64\n",
       "Copa Mundial de Clubes             int64\n",
       "UEFA Champions League              int64\n",
       "UEFA Europa League                 int64\n",
       "Supercopa Europea                  int64\n",
       "Recopa de Europa                 float64\n",
       "Títulos Nacionales                 int64\n",
       "Liga Inglesa                       int64\n",
       "FA Cup                             int64\n",
       "Supercopa Inglesa                  int64\n",
       "Copa de la Liga de Inglaterra      int64\n",
       "Full Members' Cup                float64\n",
       "Equipo                            object\n",
       "dtype: object"
      ]
     },
     "execution_count": 254,
     "metadata": {},
     "output_type": "execute_result"
    }
   ],
   "source": [
    "df_info.dtypes"
   ]
  },
  {
   "cell_type": "code",
   "execution_count": 255,
   "metadata": {},
   "outputs": [],
   "source": [
    "df_info[['Recopa de Europa', \"Full Members' Cup\"]] = df_info[['Recopa de Europa', \"Full Members' Cup\"]].astype(int)\n"
   ]
  },
  {
   "cell_type": "markdown",
   "metadata": {},
   "source": [
    "Borrar columna de asistencias en df_jugadores"
   ]
  },
  {
   "cell_type": "code",
   "execution_count": 256,
   "metadata": {},
   "outputs": [],
   "source": [
    "df_jugadores=df_jugadores.drop(columns='assists')"
   ]
  },
  {
   "cell_type": "code",
   "execution_count": 257,
   "metadata": {},
   "outputs": [],
   "source": [
    "df_jugadores.to_csv(f'../../data/transformed/stats_jugadores_transformed.csv', index=False)\n",
    "df_info.to_csv(f'../../data/transformed/info_clubes_transformed.csv', index=False)\n",
    "df_clasidicacion.to_csv(f'../../data/transformed/clasificaciones_premier_transformed.csv', index=False)\n",
    "df_estadios.to_csv(f'../../data/transformed/asistencia_estadios_transformed.csv', index=False)\n",
    "df_clubes.to_csv(f'../../data/transformed/clubes.csv', index=False)"
   ]
  }
 ],
 "metadata": {
  "kernelspec": {
   "display_name": "Python 3",
   "language": "python",
   "name": "python3"
  },
  "language_info": {
   "codemirror_mode": {
    "name": "ipython",
    "version": 3
   },
   "file_extension": ".py",
   "mimetype": "text/x-python",
   "name": "python",
   "nbconvert_exporter": "python",
   "pygments_lexer": "ipython3",
   "version": "3.12.7"
  }
 },
 "nbformat": 4,
 "nbformat_minor": 2
}
