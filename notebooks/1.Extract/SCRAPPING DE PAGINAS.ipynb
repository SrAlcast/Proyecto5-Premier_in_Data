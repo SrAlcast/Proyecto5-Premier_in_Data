{
 "cells": [
  {
   "cell_type": "code",
   "execution_count": 7,
   "metadata": {},
   "outputs": [],
   "source": [
    "# Importaciones:\n",
    "# Beautifulsoup\n",
    "from bs4 import BeautifulSoup\n",
    "\n",
    "# Requests\n",
    "import requests\n",
    "import pandas as pd\n",
    "import numpy as np\n",
    "import tqdm as tqdm\n",
    "from time import sleep\n",
    "import random\n",
    "import re\n",
    "\n",
    "\n",
    "import sys\n",
    "import os\n",
    "# Asegúrate de que ../src esté en el path\n",
    "sys.path.append(os.path.join(os.path.dirname(os.path.abspath('')), '../src'))\n",
    "# Intenta importar la función\n",
    "from support import sacar_tabla1\n",
    "from support import sacar_tabla2\n",
    "\n",
    "# Importar librerías para automatización de navegadores web con Selenium\n",
    "# -----------------------------------------------------------------------\n",
    "from selenium import webdriver  # Selenium es una herramienta para automatizar la interacción con navegadores web.\n",
    "from webdriver_manager.chrome import ChromeDriverManager  # ChromeDriverManager gestiona la instalación del controlador de Chrome.\n",
    "from selenium.webdriver.common.keys import Keys  # Keys es útil para simular eventos de teclado en Selenium.\n",
    "from selenium.webdriver.support.ui import Select  # Select se utiliza para interactuar con elementos <select> en páginas web.\n",
    "from selenium.webdriver.support.ui import WebDriverWait\n",
    "from selenium.webdriver.support import expected_conditions as EC\n",
    "from selenium.common.exceptions import NoSuchElementException # Excepciones comunes de selenium que nos podemos encontrar "
   ]
  },
  {
   "cell_type": "markdown",
   "metadata": {},
   "source": [
    "Scrapeo Transfermarket (https://www.transfermarkt.es/premier-league/besucherzahlen/wettbewerb/GB1/plus/1?saison_id)"
   ]
  },
  {
   "cell_type": "code",
   "execution_count": 2,
   "metadata": {},
   "outputs": [],
   "source": [
    "url_transfermarket = \"https://www.transfermarkt.es/premier-league/besucherzahlen/wettbewerb/GB1/plus/1?saison_id=\"\n",
    "\n",
    "lista_urls_transfermarket= [f\"{url_transfermarket}{year}\" for year in range(1992, 2024)]\n"
   ]
  },
  {
   "cell_type": "code",
   "execution_count": null,
   "metadata": {},
   "outputs": [],
   "source": [
    "listasopasurls = []\n",
    "\n",
    "for url in tqdm(lista_urls_transfermarket):\n",
    "    # Configurar los encabezados para simular un navegador\n",
    "    headers = {\"User-Agent\": \"Mozilla/5.0 (Windows NT 10.0; Win64; x64) AppleWebKit/537.36 (KHTML, like Gecko) Chrome/93.0.4577.63 Safari/537.36\"}\n",
    "    \n",
    "    # Realizar la solicitud con los encabezados\n",
    "    response = requests.get(url, headers=headers)\n",
    "    \n",
    "    # Comprobar que la solicitud fue exitosa\n",
    "    if response.status_code == 200:\n",
    "        # Convertir el contenido de la página a BeautifulSoup\n",
    "        sopa = BeautifulSoup(response.text, 'html.parser')\n",
    "        listasopasurls.append(sopa)\n",
    "    else:\n",
    "        print(f\"Error al acceder a {url}: Código de estado {response.status_code}\")\n",
    "    # Añadir un retraso para evitar bloqueos\n",
    "    sleep(1)  # Espera de 1 segundo entre solicitudes"
   ]
  },
  {
   "cell_type": "code",
   "execution_count": null,
   "metadata": {},
   "outputs": [],
   "source": [
    "lista_tablas=[]\n",
    "for sopa in listasopasurls:\n",
    "    tabla=sacar_tabla1(sopa)\n",
    "    lista_tablas.append(tabla)"
   ]
  },
  {
   "cell_type": "code",
   "execution_count": null,
   "metadata": {},
   "outputs": [],
   "source": [
    "df_unido = pd.concat(lista_tablas, ignore_index=True)"
   ]
  },
  {
   "cell_type": "code",
   "execution_count": null,
   "metadata": {},
   "outputs": [],
   "source": [
    "# Crear la carpeta si no existe\n",
    "os.makedirs('data', exist_ok=True)\n",
    "df_unido.to_csv(f'../../data/base/asistencia_estadios.csv', index=False)"
   ]
  },
  {
   "cell_type": "markdown",
   "metadata": {},
   "source": [
    "Scrapeo pagina Sobre Futbol.com\n",
    "https://www.sobrefutbol.com/equipos/equipos_inglaterra.htm"
   ]
  },
  {
   "cell_type": "code",
   "execution_count": 24,
   "metadata": {},
   "outputs": [],
   "source": [
    "equipos = [\n",
    "    \"afc_bournemouth\",\n",
    "    \"arsenal\",\n",
    "    \"aston_villa\",\n",
    "    \"blackburn_rovers\",\n",
    "    \"brighton\",\n",
    "    \"burnley\",\n",
    "    \"chelsea\",\n",
    "    \"crystal_palace\",\n",
    "    \"everton\",\n",
    "    \"leeds\",\n",
    "    \"leicester_city\",\n",
    "    \"liverpool\",\n",
    "    \"manchester_city\",\n",
    "    \"manchester_united\",\n",
    "    \"newcastle\",\n",
    "    \"nottingham_forest\",\n",
    "    \"sheffield_united\",\n",
    "    \"sheffield_wednesday\",\n",
    "    \"sunderland\",\n",
    "    \"tottenham_hotspur\",\n",
    "    \"west_bromwich_albion\",\n",
    "    \"west_ham_united\",\n",
    "    \"wolverhampton\"\n",
    "]\n"
   ]
  },
  {
   "cell_type": "code",
   "execution_count": 25,
   "metadata": {},
   "outputs": [],
   "source": [
    "listaurls=[]\n",
    "urlbase='https://www.sobrefutbol.com/equipos/manchester_united.htm'\n",
    "for equipo in equipos:\n",
    "    url=f'https://www.sobrefutbol.com/equipos/{equipo}.htm'\n",
    "    listaurls.append(url)"
   ]
  },
  {
   "cell_type": "code",
   "execution_count": 26,
   "metadata": {},
   "outputs": [],
   "source": [
    "listasopasurls2 = []\n",
    "\n",
    "for url in listaurls:\n",
    "    # Configurar los encabezados para simular un navegador\n",
    "    headers = {\"User-Agent\": \"Mozilla/5.0 (Windows NT 10.0; Win64; x64) AppleWebKit/537.36 (KHTML, like Gecko) Chrome/93.0.4577.63 Safari/537.36\"}\n",
    "    \n",
    "    # Realizar la solicitud con los encabezados\n",
    "    response = requests.get(url, headers=headers)\n",
    "    \n",
    "    # Comprobar que la solicitud fue exitosa\n",
    "    if response.status_code == 200:\n",
    "        # Convertir el contenido de la página a BeautifulSoup\n",
    "        sopa = BeautifulSoup(response.text, 'html.parser')\n",
    "        listasopasurls2.append(sopa)\n",
    "    else:\n",
    "        print(f\"Error al acceder a {url}: Código de estado {response.status_code}\")\n",
    "    # Añadir un retraso para evitar bloqueos\n",
    "    sleep(1)  # Espera de 1 segundo entre solicitudes"
   ]
  },
  {
   "cell_type": "code",
   "execution_count": 27,
   "metadata": {},
   "outputs": [],
   "source": [
    "lista_tablas2=[]\n",
    "for sopa in listasopasurls2:\n",
    "    tabla=sacar_tabla2(sopa)\n",
    "    lista_tablas2.append(tabla)"
   ]
  },
  {
   "cell_type": "code",
   "execution_count": 28,
   "metadata": {},
   "outputs": [],
   "source": [
    "df_unido2 = pd.concat(lista_tablas2, ignore_index=True)"
   ]
  },
  {
   "cell_type": "code",
   "execution_count": null,
   "metadata": {},
   "outputs": [],
   "source": [
    "# Crear la carpeta si no existe\n",
    "os.makedirs('data', exist_ok=True)\n",
    "df_unido2.to_csv(f'../../data/base/info_clubes.csv', index=False)"
   ]
  }
 ],
 "metadata": {
  "kernelspec": {
   "display_name": "Python 3",
   "language": "python",
   "name": "python3"
  },
  "language_info": {
   "codemirror_mode": {
    "name": "ipython",
    "version": 3
   },
   "file_extension": ".py",
   "mimetype": "text/x-python",
   "name": "python",
   "nbconvert_exporter": "python",
   "pygments_lexer": "ipython3",
   "version": "3.12.7"
  }
 },
 "nbformat": 4,
 "nbformat_minor": 2
}
