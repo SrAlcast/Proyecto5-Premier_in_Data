{
 "cells": [
  {
   "cell_type": "code",
   "execution_count": 1,
   "metadata": {},
   "outputs": [],
   "source": [
    "# importamos las librerías con las que vamos a trabajar\n",
    "\n",
    "# Trabajar con bases de datos y python\n",
    "# -----------------------------------------------------------------------\n",
    "import psycopg2\n",
    "from psycopg2 import OperationalError, errorcodes, errors\n",
    "\n",
    "\n",
    "# Trabajar con DataFrames\n",
    "# -----------------------------------------------------------------------\n",
    "import pandas as pd\n",
    "import matplotlib.pyplot as plt\n"
   ]
  },
  {
   "cell_type": "code",
   "execution_count": 2,
   "metadata": {},
   "outputs": [],
   "source": [
    "df_jugadores=pd.read_csv(f'../../data/transformed/stats_jugadores_transformed.csv')\n",
    "df_info=pd.read_csv(f'../../data/transformed/info_clubes_transformed.csv')\n",
    "df_clasidicacion=pd.read_csv(f'../../data/transformed/clasificaciones_premier_transformed.csv')\n",
    "df_estadios=pd.read_csv(f'../../data/transformed/asistencia_estadios_transformed.csv')\n",
    "df_clubes=pd.read_csv(f'../../data/transformed/clubes.csv')"
   ]
  },
  {
   "cell_type": "code",
   "execution_count": 3,
   "metadata": {},
   "outputs": [],
   "source": [
    "try:\n",
    "    conexionpremier=psycopg2.connect(\n",
    "    database=\"premier\",\n",
    "    user=\"postgres\",\n",
    "    password=\"admin\",\n",
    "    host=\"localhost\",\n",
    "    port=\"5432\")\n",
    "except OperationalError as e:\n",
    "    if e.pgcode ==errorcodes.INVALID_PASSWORD:\n",
    "        print(\"La constraseña es incorrecta\")\n",
    "    elif e.pgcode ==errorcodes.CONNECTION_EXCEPTION:\n",
    "        print(\"Error de conexión\")"
   ]
  },
  {
   "cell_type": "code",
   "execution_count": 4,
   "metadata": {},
   "outputs": [
    {
     "data": {
      "text/plain": [
       "<connection object at 0x000002A80C8E3450; dsn: 'user=postgres password=xxx dbname=premier host=localhost port=5432', closed: 0>"
      ]
     },
     "execution_count": 4,
     "metadata": {},
     "output_type": "execute_result"
    }
   ],
   "source": [
    "# Primero, deshacer la transacción fallida\n",
    "conexionpremier.rollback()\n",
    "\n",
    "cursorpremier = conexionpremier.cursor()\n",
    "conexionpremier"
   ]
  },
  {
   "cell_type": "code",
   "execution_count": 5,
   "metadata": {},
   "outputs": [
    {
     "name": "stdout",
     "output_type": "stream",
     "text": [
      "Tablas creadas exitosamente en la base de datos.\n"
     ]
    }
   ],
   "source": [
    "# Tabla principal: Clubes con id_equipo como PRIMARY KEY\n",
    "cursorpremier.execute(\"\"\"\n",
    "    CREATE TABLE IF NOT EXISTS clubes (\n",
    "        id_equipo SERIAL PRIMARY KEY,\n",
    "        equipo VARCHAR(255) UNIQUE\n",
    "    );\n",
    "\"\"\")\n",
    "\n",
    "# Tabla 1: Asistencia Estadios\n",
    "cursorpremier.execute(\"\"\"\n",
    "    CREATE TABLE IF NOT EXISTS asistencia_estadios (\n",
    "        estadio VARCHAR(255),\n",
    "        id_equipo INT,\n",
    "        capacidad INT,\n",
    "        espectadores INT,\n",
    "        promedio INT,\n",
    "        partidos INT,\n",
    "        lleno FLOAT,\n",
    "        maximo_rendimiento FLOAT,\n",
    "        temporada INT,\n",
    "        PRIMARY KEY (id_equipo, temporada),\n",
    "        FOREIGN KEY (id_equipo) REFERENCES clubes(id_equipo) ON DELETE CASCADE\n",
    "    );\n",
    "\"\"\")\n",
    "\n",
    "# Tabla 2: Clasificaciones Premier\n",
    "cursorpremier.execute(\"\"\"\n",
    "    CREATE TABLE IF NOT EXISTS clasificaciones_premier (\n",
    "        temporada INT,\n",
    "        posicion INT,\n",
    "        id_equipo INT,\n",
    "        goles_favor_total FLOAT,\n",
    "        goles_contra_total FLOAT,\n",
    "        puntos_total INT,\n",
    "        goles_favor_local FLOAT,\n",
    "        goles_contra_local FLOAT,\n",
    "        puntos_local INT,\n",
    "        goles_favor_visitante FLOAT,\n",
    "        goles_contra_visitante FLOAT,\n",
    "        puntos_visitante INT,\n",
    "        PRIMARY KEY (id_equipo, temporada),\n",
    "        FOREIGN KEY (id_equipo) REFERENCES clubes(id_equipo) ON DELETE CASCADE\n",
    "    );\n",
    "\"\"\")\n",
    "\n",
    "# Tabla 3: Info Clubes\n",
    "cursorpremier.execute(\"\"\"\n",
    "    CREATE TABLE IF NOT EXISTS info_clubes (\n",
    "        id_equipo INT PRIMARY KEY,\n",
    "        nombre_completo VARCHAR(255),\n",
    "        ano_fundacion INT,\n",
    "        pais VARCHAR(255),\n",
    "        confederacion_nacional VARCHAR(255),\n",
    "        colores_principales VARCHAR(255),\n",
    "        colores_alternativos VARCHAR(255),\n",
    "        apodo VARCHAR(255),\n",
    "        web_oficial VARCHAR(255),\n",
    "        titulos_internacionales INT,\n",
    "        copa_mundial_clubes INT,\n",
    "        uefa_europa_league INT,\n",
    "        supercopa_europea INT,\n",
    "        recopa_de_europa INT,\n",
    "        titulos_nacionales INT,\n",
    "        liga_inglesa INT,\n",
    "        fa_cup INT,\n",
    "        supercopa_inglesa INT,\n",
    "        copa_liga_inglesa INT,\n",
    "        full_members_cup INT,\n",
    "        FOREIGN KEY (id_equipo) REFERENCES clubes(id_equipo) ON DELETE CASCADE\n",
    "    );\n",
    "\"\"\")\n",
    "\n",
    "# Tabla 4: Stats Jugadores\n",
    "cursorpremier.execute(\"\"\"\n",
    "    CREATE TABLE IF NOT EXISTS stats_jugadores (\n",
    "        temporada INT,\n",
    "        id_jugador INT,\n",
    "        nombre_jugador VARCHAR(255),\n",
    "        edad INT,\n",
    "        nacionalidad VARCHAR(50),\n",
    "        id_equipo INT,\n",
    "        partidos_jugados INT,\n",
    "        minutos INT,\n",
    "        goles INT,\n",
    "        tarjetas_amarillas INT,\n",
    "        tarjetas_rojas INT,\n",
    "        PRIMARY KEY (id_jugador, temporada),\n",
    "        FOREIGN KEY (id_equipo) REFERENCES clubes(id_equipo) ON DELETE CASCADE\n",
    "    );\n",
    "\"\"\")\n",
    "\n",
    "# Confirmación de la creación de tablas\n",
    "conexionpremier.commit()\n",
    "print(\"Tablas creadas exitosamente en la base de datos.\")"
   ]
  },
  {
   "cell_type": "code",
   "execution_count": 6,
   "metadata": {},
   "outputs": [],
   "source": [
    "df_jugadores=pd.read_csv(f'../../data/transformed/stats_jugadores_transformed.csv')\n",
    "df_info=pd.read_csv(f'../../data/transformed/info_clubes_transformed.csv')\n",
    "df_clasidicacion=pd.read_csv(f'../../data/transformed/clasificaciones_premier_transformed.csv')\n",
    "df_estadios=pd.read_csv(f'../../data/transformed/asistencia_estadios_transformed.csv')\n",
    "df_clubes=pd.read_csv(f'../../data/transformed/clubes.csv')"
   ]
  },
  {
   "cell_type": "code",
   "execution_count": 7,
   "metadata": {},
   "outputs": [
    {
     "data": {
      "text/plain": [
       "<connection object at 0x000002A80C8E3450; dsn: 'user=postgres password=xxx dbname=premier host=localhost port=5432', closed: 0>"
      ]
     },
     "execution_count": 7,
     "metadata": {},
     "output_type": "execute_result"
    }
   ],
   "source": [
    "# Primero, deshacer la transacción fallida\n",
    "conexionpremier.rollback()\n",
    "\n",
    "cursorpremier = conexionpremier.cursor()\n",
    "conexionpremier"
   ]
  },
  {
   "cell_type": "markdown",
   "metadata": {},
   "source": [
    "Insertar valores"
   ]
  },
  {
   "cell_type": "code",
   "execution_count": 8,
   "metadata": {},
   "outputs": [
    {
     "name": "stdout",
     "output_type": "stream",
     "text": [
      "Datos insertados exitosamente en la base de datos.\n"
     ]
    }
   ],
   "source": [
    "try:\n",
    "    cursorpremier = conexionpremier.cursor()\n",
    "\n",
    "    # Paso 1: Insertar equipos en 'clubes' y construir el mapeo id_equipo sin duplicados\n",
    "    equipo_id_map = {}\n",
    "    for equipo in df_clubes['Equipos']:\n",
    "        # Verificar si el equipo ya existe\n",
    "        cursorpremier.execute(\"SELECT id_equipo FROM clubes WHERE equipo = %s;\", (equipo,))\n",
    "        result = cursorpremier.fetchone()\n",
    "        \n",
    "        if result:\n",
    "            # Si el equipo ya existe, obtener el id_equipo existente\n",
    "            id_equipo = result[0]\n",
    "        else:\n",
    "            # Si el equipo no existe, insertar y obtener el nuevo id_equipo\n",
    "            cursorpremier.execute(\"INSERT INTO clubes (equipo) VALUES (%s) RETURNING id_equipo;\", (equipo,))\n",
    "            id_equipo = cursorpremier.fetchone()[0]\n",
    "        \n",
    "        equipo_id_map[equipo] = id_equipo\n",
    "\n",
    "    # Paso 2: Actualizar las listas de tuplas usando el mapeo de 'id_equipo'\n",
    "    asistencia_estadios_data = [\n",
    "        (\n",
    "            row['Estadio'], equipo_id_map[row['Equipo']], row['Capacidad'], row['Espectadores'],\n",
    "            row['Promedio'], row['Partidos'], row['Lleno'], row['Máximo rendimiento'], row['Temporada']\n",
    "        )\n",
    "        for _, row in df_estadios.iterrows()\n",
    "    ]\n",
    "\n",
    "    clasificaciones_premier_data = [\n",
    "        (\n",
    "            row['temporada'], row['posicion'], equipo_id_map[row['equipo']], row['goles_favor_total'],\n",
    "            row['goles_contra_total'], row['puntos_total'], row['goles_favor_local'],\n",
    "            row['goles_contra_local'], row['puntos_local'], row['goles_favor_visitante'],\n",
    "            row['goles_contra_visitante'], row['puntos_visitante']\n",
    "        )\n",
    "        for _, row in df_clasidicacion.iterrows()\n",
    "    ]\n",
    "\n",
    "    info_clubes_data = [\n",
    "        (\n",
    "            equipo_id_map[row['Equipo']], row['Nombre Completo'], row['Año de fundación'], row['País'],\n",
    "            row['Confederación Nacional'], row['Colores principales'], row['Colores alternativos'],\n",
    "            row['Apodo'], row['Web oficial'], row['Títulos Internacionales'], row['Copa Mundial de Clubes'],\n",
    "            row['UEFA Europa League'], row['Supercopa Europea'], row['Recopa de Europa'], row['Títulos Nacionales'],\n",
    "            row['Liga Inglesa'], row['FA Cup'], row['Supercopa Inglesa'], row['Copa de la Liga de Inglaterra'],\n",
    "            row[\"Full Members' Cup\"]\n",
    "        )\n",
    "        for _, row in df_info.iterrows()\n",
    "    ]\n",
    "\n",
    "    stats_jugadores_data = [\n",
    "        (\n",
    "            row['temporada'], row['id_jugador'], row['nombre_jugador'], row['edad'], row['nacionalidad'],\n",
    "            equipo_id_map[row['equipo']], \n",
    "            row['partidos_jugados'], row['minutos'], row['goles'],\n",
    "            row['tarjetas_amarillas'], row['tarjetas_rojas']\n",
    "        )\n",
    "        for _, row in df_jugadores.iterrows()\n",
    "    ]\n",
    "\n",
    "    # Paso 3: Insertar datos en las tablas restantes\n",
    "    cursorpremier.executemany(\"\"\"\n",
    "        INSERT INTO asistencia_estadios (estadio, id_equipo, capacidad, espectadores, promedio, partidos, lleno, maximo_rendimiento, temporada)\n",
    "        VALUES (%s, %s, %s, %s, %s, %s, %s, %s, %s);\n",
    "    \"\"\", asistencia_estadios_data)\n",
    "\n",
    "    cursorpremier.executemany(\"\"\"\n",
    "        INSERT INTO clasificaciones_premier (temporada, posicion, id_equipo, goles_favor_total, goles_contra_total, puntos_total, goles_favor_local, goles_contra_local, puntos_local, goles_favor_visitante, goles_contra_visitante, puntos_visitante)\n",
    "        VALUES (%s, %s, %s, %s, %s, %s, %s, %s, %s, %s, %s, %s);\n",
    "    \"\"\", clasificaciones_premier_data)\n",
    "\n",
    "    cursorpremier.executemany(\"\"\"\n",
    "        INSERT INTO info_clubes (id_equipo, nombre_completo, ano_fundacion, pais, confederacion_nacional, colores_principales, colores_alternativos, apodo, web_oficial, titulos_internacionales, copa_mundial_clubes, uefa_europa_league, supercopa_europea, recopa_de_europa, titulos_nacionales, liga_inglesa, fa_cup, supercopa_inglesa, copa_liga_inglesa, full_members_cup)\n",
    "        VALUES (%s, %s, %s, %s, %s, %s, %s, %s, %s, %s, %s, %s, %s, %s, %s, %s, %s, %s, %s, %s);\n",
    "    \"\"\", info_clubes_data)\n",
    "\n",
    "    cursorpremier.executemany(\"\"\"\n",
    "        INSERT INTO stats_jugadores (temporada, id_jugador, nombre_jugador, edad, nacionalidad, id_equipo, partidos_jugados, minutos, goles, tarjetas_amarillas, tarjetas_rojas)\n",
    "        VALUES (%s, %s, %s, %s, %s, %s, %s, %s, %s, %s, %s);\n",
    "    \"\"\", stats_jugadores_data)\n",
    "\n",
    "    # Confirmar transacciones\n",
    "    conexionpremier.commit()\n",
    "    print(\"Datos insertados exitosamente en la base de datos.\")\n",
    "\n",
    "except Exception as e:\n",
    "    print(f\"Ocurrió un error: {e}\")\n",
    "    conexionpremier.rollback()"
   ]
  }
 ],
 "metadata": {
  "kernelspec": {
   "display_name": "Python 3",
   "language": "python",
   "name": "python3"
  },
  "language_info": {
   "codemirror_mode": {
    "name": "ipython",
    "version": 3
   },
   "file_extension": ".py",
   "mimetype": "text/x-python",
   "name": "python",
   "nbconvert_exporter": "python",
   "pygments_lexer": "ipython3",
   "version": "3.12.7"
  }
 },
 "nbformat": 4,
 "nbformat_minor": 2
}
